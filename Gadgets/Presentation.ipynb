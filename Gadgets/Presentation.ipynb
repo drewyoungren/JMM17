{
 "cells": [
  {
   "cell_type": "code",
   "execution_count": 49,
   "metadata": {
    "collapsed": true,
    "slideshow": {
     "slide_type": "skip"
    }
   },
   "outputs": [],
   "source": [
    "from IPython.display import Image, IFrame, HTML, display"
   ]
  },
  {
   "cell_type": "code",
   "execution_count": 238,
   "metadata": {
    "collapsed": false,
    "slideshow": {
     "slide_type": "skip"
    }
   },
   "outputs": [],
   "source": [
    "import ipywidgets as widgets"
   ]
  },
  {
   "cell_type": "code",
   "execution_count": 243,
   "metadata": {
    "collapsed": true,
    "slideshow": {
     "slide_type": "skip"
    }
   },
   "outputs": [],
   "source": [
    "from ipywidgets import interact"
   ]
  },
  {
   "cell_type": "code",
   "execution_count": 4,
   "metadata": {
    "collapsed": true,
    "slideshow": {
     "slide_type": "skip"
    }
   },
   "outputs": [],
   "source": [
    "import pandas as pd\n",
    "import numpy as np"
   ]
  },
  {
   "cell_type": "code",
   "execution_count": 133,
   "metadata": {
    "collapsed": false,
    "slideshow": {
     "slide_type": "skip"
    }
   },
   "outputs": [],
   "source": [
    "import matplotlib.pyplot as plt\n",
    "import matplotlib.patches as patches\n",
    "import matplotlib.animation as animation\n",
    "import seaborn as sns"
   ]
  },
  {
   "cell_type": "code",
   "execution_count": 216,
   "metadata": {
    "collapsed": true,
    "slideshow": {
     "slide_type": "skip"
    }
   },
   "outputs": [],
   "source": [
    "import networkx as nx"
   ]
  },
  {
   "cell_type": "code",
   "execution_count": 6,
   "metadata": {
    "collapsed": true,
    "slideshow": {
     "slide_type": "skip"
    }
   },
   "outputs": [],
   "source": [
    "%matplotlib inline"
   ]
  },
  {
   "cell_type": "markdown",
   "metadata": {
    "slideshow": {
     "slide_type": "slide"
    }
   },
   "source": [
    "\n",
    "#### JMM17 Atlanta, GA\n",
    "\n",
    "<br><br>\n",
    "<div align=\"center\">\n",
    "<h1>The Clickers They Carry</h1>\n",
    "\n",
    "\n",
    "<h2>Using Free(ish) Software for In-class Surveys</h2>\n",
    "</div>\n",
    "<br><br>\n",
    "\n",
    "\n",
    "\n",
    "<div align=\"right\"><h3>Drew Youngren, New York University</h3></div>"
   ]
  },
  {
   "cell_type": "markdown",
   "metadata": {
    "slideshow": {
     "slide_type": "slide"
    }
   },
   "source": [
    "## My Gadgets"
   ]
  },
  {
   "cell_type": "markdown",
   "metadata": {
    "slideshow": {
     "slide_type": "fragment"
    }
   },
   "source": [
    "<div align=\"center\"><h3>QR Codes</h1> \n",
    "<img src=\"./qr-item.png\">  </div>"
   ]
  },
  {
   "cell_type": "markdown",
   "metadata": {
    "slideshow": {
     "slide_type": "fragment"
    }
   },
   "source": [
    " <div align=\"center\"><h1>+</h1> \n",
    " <img src=\"./forms.png\"> </div>"
   ]
  },
  {
   "cell_type": "markdown",
   "metadata": {
    "slideshow": {
     "slide_type": "subslide"
    }
   },
   "source": [
    "\n",
    "<div align=\"center\"><h1>+</h1> \n",
    " <img src=\"./logos/python.png\"> </div>"
   ]
  },
  {
   "cell_type": "markdown",
   "metadata": {
    "slideshow": {
     "slide_type": "subslide"
    }
   },
   "source": [
    "\n",
    "<div align=\"center\"><h1>+</h1> \n",
    " <img src=\"./logos/pandas.png\"> </div>"
   ]
  },
  {
   "cell_type": "markdown",
   "metadata": {
    "slideshow": {
     "slide_type": "subslide"
    }
   },
   "source": [
    "\n",
    "<div align=\"center\"><h1>+</h1> \n",
    " <img src=\"./logos/jupyter.png\"> </div>"
   ]
  },
  {
   "cell_type": "markdown",
   "metadata": {
    "slideshow": {
     "slide_type": "subslide"
    }
   },
   "source": [
    "\n",
    "<div align=\"center\"><h1>+</h1> \n",
    " <img src=\"./logos/matplotlib.png\" height=\"200\"> </div>"
   ]
  },
  {
   "cell_type": "markdown",
   "metadata": {
    "slideshow": {
     "slide_type": "subslide"
    }
   },
   "source": [
    "\n",
    "<div align=\"center\"><h1>+</h1> \n",
    " <img src=\"./logos/bokeh.png\"> </div>"
   ]
  },
  {
   "cell_type": "markdown",
   "metadata": {
    "slideshow": {
     "slide_type": "subslide"
    }
   },
   "source": [
    "\n",
    "<div align=\"center\"><h1>+</h1> \n",
    " <img src=\"./logos/numpy.jpg\"> <img src=\"./logos/scipy.png\"> <img src=\"./logos/sage.png\"> </div>"
   ]
  },
  {
   "cell_type": "markdown",
   "metadata": {
    "slideshow": {
     "slide_type": "slide"
    }
   },
   "source": [
    "# Their Gadget"
   ]
  },
  {
   "cell_type": "markdown",
   "metadata": {
    "slideshow": {
     "slide_type": "skip"
    }
   },
   "source": [
    "## A black rectangle\n",
    "\n",
    "<table border=0>\n",
    "    <tr>\n",
    "        <td><img src=\"./rect.png\"></td>\n",
    "        <td>With:\n",
    "            <ul>\n",
    "                <li>a camera</li>\n",
    "                <li>a modern web browser</li>\n",
    "            </ul>\n",
    "        </td>\n",
    "    </tr>\n",
    "</table>\n"
   ]
  },
  {
   "cell_type": "markdown",
   "metadata": {
    "slideshow": {
     "slide_type": "fragment"
    }
   },
   "source": [
    "## A black rectangle\n",
    "\n",
    "<img src=\"./rect.png\">\n",
    "\n",
    "With:\n",
    "            <ul>\n",
    "                <li>a camera</li>\n",
    "                <li>a modern web browser</li>\n",
    "            </ul>\n"
   ]
  },
  {
   "cell_type": "code",
   "execution_count": 9,
   "metadata": {
    "collapsed": false,
    "slideshow": {
     "slide_type": "skip"
    }
   },
   "outputs": [
    {
     "data": {
      "image/png": "[encoded data removed]",
      "text/plain": [
       "<matplotlib.figure.Figure at 0x11885cfd0>"
      ]
     },
     "metadata": {},
     "output_type": "display_data"
    }
   ],
   "source": [
    "fig,ax = plt.subplots(1,1)\n"
   ]
  },
  {
   "cell_type": "code",
   "execution_count": 27,
   "metadata": {
    "collapsed": false,
    "slideshow": {
     "slide_type": "skip"
    }
   },
   "outputs": [
    {
     "data": {
      "text/plain": [
       "<matplotlib.patches.Rectangle at 0x11b41cb90>"
      ]
     },
     "execution_count": 27,
     "metadata": {},
     "output_type": "execute_result"
    }
   ],
   "source": [
    "ax.add_patch(patches.Rectangle((0,0),1,1,color='black'))"
   ]
  },
  {
   "cell_type": "code",
   "execution_count": 56,
   "metadata": {
    "collapsed": false,
    "slideshow": {
     "slide_type": "skip"
    }
   },
   "outputs": [
    {
     "data": {
      "image/png": "[encoded data removed]",
      "text/plain": [
       "<matplotlib.figure.Figure at 0x11885cfd0>"
      ]
     },
     "execution_count": 56,
     "metadata": {},
     "output_type": "execute_result"
    }
   ],
   "source": [
    "fig"
   ]
  },
  {
   "cell_type": "code",
   "execution_count": 57,
   "metadata": {
    "collapsed": true,
    "slideshow": {
     "slide_type": "skip"
    }
   },
   "outputs": [],
   "source": [
    "fig.savefig(\"rect.png\")"
   ]
  },
  {
   "cell_type": "code",
   "execution_count": 55,
   "metadata": {
    "collapsed": true,
    "slideshow": {
     "slide_type": "skip"
    }
   },
   "outputs": [],
   "source": [
    "fig.set_size_inches(2,3.33)"
   ]
  },
  {
   "cell_type": "code",
   "execution_count": 32,
   "metadata": {
    "collapsed": false,
    "slideshow": {
     "slide_type": "skip"
    }
   },
   "outputs": [
    {
     "data": {
      "text/plain": [
       "[]"
      ]
     },
     "execution_count": 32,
     "metadata": {},
     "output_type": "execute_result"
    }
   ],
   "source": [
    "ax.set_xticklabels([],visible=False)"
   ]
  },
  {
   "cell_type": "code",
   "execution_count": 39,
   "metadata": {
    "collapsed": false,
    "slideshow": {
     "slide_type": "skip"
    }
   },
   "outputs": [
    {
     "data": {
      "text/plain": [
       "[]"
      ]
     },
     "execution_count": 39,
     "metadata": {},
     "output_type": "execute_result"
    }
   ],
   "source": [
    "ax.set_yticklabels([],visible=False)"
   ]
  },
  {
   "cell_type": "markdown",
   "metadata": {
    "slideshow": {
     "slide_type": "notes"
    }
   },
   "source": [
    "A 2015 Pearson Survey put smartphone usage among US college students at over 85%."
   ]
  },
  {
   "cell_type": "markdown",
   "metadata": {
    "slideshow": {
     "slide_type": "subslide"
    }
   },
   "source": [
    "# How it works"
   ]
  },
  {
   "cell_type": "markdown",
   "metadata": {
    "slideshow": {
     "slide_type": "subslide"
    }
   },
   "source": [
    "## Basic example: attendance"
   ]
  },
  {
   "cell_type": "markdown",
   "metadata": {
    "slideshow": {
     "slide_type": "fragment"
    }
   },
   "source": [
    "![atudent view - prompt](./screenshots/1.png)"
   ]
  },
  {
   "cell_type": "markdown",
   "metadata": {
    "slideshow": {
     "slide_type": "subslide"
    }
   },
   "source": [
    "## Basic example: attendance\n",
    "\n",
    "![atudent view - prompt](./screenshots/2.png)"
   ]
  },
  {
   "cell_type": "markdown",
   "metadata": {
    "slideshow": {
     "slide_type": "subslide"
    }
   },
   "source": [
    "## Basic example: attendance\n",
    "\n",
    "![atudent view - prompt](./screenshots/3.png)"
   ]
  },
  {
   "cell_type": "markdown",
   "metadata": {
    "slideshow": {
     "slide_type": "slide"
    }
   },
   "source": [
    "## More interesting: Networking"
   ]
  },
  {
   "cell_type": "markdown",
   "metadata": {
    "slideshow": {
     "slide_type": "fragment"
    }
   },
   "source": [
    "### Client-side data validation\n",
    "\n",
    "![networking form](./screenshots/4.png)"
   ]
  },
  {
   "cell_type": "markdown",
   "metadata": {
    "slideshow": {
     "slide_type": "subslide"
    }
   },
   "source": [
    "## More interesting: Networking\n",
    "\n",
    "### Push to spreadsheet\n",
    "\n",
    "![networking responses](./screenshots/5.png)"
   ]
  },
  {
   "cell_type": "markdown",
   "metadata": {
    "slideshow": {
     "slide_type": "subslide"
    }
   },
   "source": [
    "## More interesting: Networking\n",
    "\n",
    "### Publish to web (CSV format)\n",
    "\n",
    "![networking responses](./screenshots/6.png)"
   ]
  },
  {
   "cell_type": "markdown",
   "metadata": {
    "slideshow": {
     "slide_type": "subslide"
    }
   },
   "source": [
    "# Warning\n",
    "\n",
    "## \"Publish to the Web...\" does what it says on the tin. \n",
    "\n",
    "![networking responses](./screenshots/7.png)\n"
   ]
  },
  {
   "cell_type": "markdown",
   "metadata": {
    "slideshow": {
     "slide_type": "subslide"
    }
   },
   "source": [
    "## Read in the data\n",
    "\n",
    "### I use Jupyter notebooks with pandas for processing data. "
   ]
  },
  {
   "cell_type": "code",
   "execution_count": 115,
   "metadata": {
    "collapsed": true,
    "slideshow": {
     "slide_type": "fragment"
    }
   },
   "outputs": [],
   "source": [
    "fr = pd.read_csv('https://docs.google.com/spreadsheets/d/1cAuj7T4Sv3LixPxUe0Qx1mvEudb5QJHdHrEeoo7PjE8/pub?gid=1477093847&single=true&output=csv')"
   ]
  },
  {
   "cell_type": "code",
   "execution_count": 116,
   "metadata": {
    "collapsed": false,
    "slideshow": {
     "slide_type": "fragment"
    }
   },
   "outputs": [
    {
     "data": {
      "text/html": [
       "<div>\n",
       "<table border=\"1\" class=\"dataframe\">\n",
       "  <thead>\n",
       "    <tr style=\"text-align: right;\">\n",
       "      <th></th>\n",
       "      <th>Timestamp</th>\n",
       "      <th>NetID</th>\n",
       "      <th>\"Friends\"</th>\n",
       "    </tr>\n",
       "  </thead>\n",
       "  <tbody>\n",
       "    <tr>\n",
       "      <th>0</th>\n",
       "      <td>11/28/2016 14:59:47</td>\n",
       "      <td>dcy213</td>\n",
       "      <td>dcy213</td>\n",
       "    </tr>\n",
       "    <tr>\n",
       "      <th>1</th>\n",
       "      <td>11/28/2016 15:34:04</td>\n",
       "      <td>pmr347</td>\n",
       "      <td>NaN</td>\n",
       "    </tr>\n",
       "    <tr>\n",
       "      <th>2</th>\n",
       "      <td>11/28/2016 15:34:14</td>\n",
       "      <td>Sj1948</td>\n",
       "      <td>Ek2543</td>\n",
       "    </tr>\n",
       "    <tr>\n",
       "      <th>3</th>\n",
       "      <td>11/28/2016 15:34:28</td>\n",
       "      <td>Ek2544</td>\n",
       "      <td>Sj1948</td>\n",
       "    </tr>\n",
       "    <tr>\n",
       "      <th>4</th>\n",
       "      <td>11/28/2016 15:35:04</td>\n",
       "      <td>atq203</td>\n",
       "      <td>clx205</td>\n",
       "    </tr>\n",
       "  </tbody>\n",
       "</table>\n",
       "</div>"
      ],
      "text/plain": [
       "             Timestamp   NetID \"Friends\"\n",
       "0  11/28/2016 14:59:47  dcy213    dcy213\n",
       "1  11/28/2016 15:34:04  pmr347       NaN\n",
       "2  11/28/2016 15:34:14  Sj1948    Ek2543\n",
       "3  11/28/2016 15:34:28  Ek2544    Sj1948\n",
       "4  11/28/2016 15:35:04  atq203    clx205"
      ]
     },
     "execution_count": 116,
     "metadata": {},
     "output_type": "execute_result"
    }
   ],
   "source": [
    "fr.head()"
   ]
  },
  {
   "cell_type": "code",
   "execution_count": 120,
   "metadata": {
    "collapsed": false,
    "slideshow": {
     "slide_type": "subslide"
    }
   },
   "outputs": [
    {
     "data": {
      "text/plain": [
       "0                                [dcy213]\n",
       "1                                     NaN\n",
       "2                                [Ek2543]\n",
       "3                                [Sj1948]\n",
       "4                                [clx205]\n",
       "5                                [Ek2544]\n",
       "6                                [ahl348]\n",
       "7                                [jlf529]\n",
       "8                        [Hz3548, csc469]\n",
       "9               [yd735,  dg2703,  sm6405]\n",
       "10                      [jl7145,  ad3634]\n",
       "11              [dg2703,  sm6405,  fz492]\n",
       "12              [Hz883,  sj1948,  csc465]\n",
       "13                       [wl1189, jl7145]\n",
       "14                       [cl2871, nb2255]\n",
       "15                               [yz2085]\n",
       "16                       [wl1189, ad3634]\n",
       "17                      [Csc465,  hns260]\n",
       "18    [cp2379,   dg2703,  fz492,  lg1986]\n",
       "19     [atq203,  bir224,  ry744,  jlf529]\n",
       "20       [ep1725, hns260, imh219, dg2703]\n",
       "21    [imj219,  nk1724,  ep1725,  wl1189]\n",
       "22                      [ek2544,  bir224]\n",
       "23                      [Ahl348,  cl2871]\n",
       "24       [nk1724, dg2703, hns260, imj219]\n",
       "25      [clx205,  hz883,  ry744,  jlf529]\n",
       "26             [ep1725,  sm6405,  nk1724]\n",
       "27             [hns260,  nk1724,  ep1725]\n",
       "28                       [ek2544, dl3417]\n",
       "29              [ry744,  clx205,  bir224]\n",
       "Name: \"Friends\", dtype: object"
      ]
     },
     "execution_count": 120,
     "metadata": {},
     "output_type": "execute_result"
    }
   ],
   "source": [
    "fr['\"Friends\"'].str.split(',')"
   ]
  },
  {
   "cell_type": "markdown",
   "metadata": {
    "slideshow": {
     "slide_type": "subslide"
    }
   },
   "source": [
    "## Make your own visualizations (here using NetworkX)\n",
    "\n",
    "![graph gif](./g1.gif)"
   ]
  },
  {
   "cell_type": "code",
   "execution_count": 171,
   "metadata": {
    "collapsed": false,
    "slideshow": {
     "slide_type": "skip"
    }
   },
   "outputs": [
    {
     "data": {
      "text/plain": [
       "0     None\n",
       "1     None\n",
       "2     None\n",
       "3     None\n",
       "4     None\n",
       "5     None\n",
       "6     None\n",
       "7     None\n",
       "8     None\n",
       "9     None\n",
       "10    None\n",
       "11    None\n",
       "12    None\n",
       "13    None\n",
       "14    None\n",
       "15    None\n",
       "16    None\n",
       "17    None\n",
       "18    None\n",
       "19    None\n",
       "20    None\n",
       "21    None\n",
       "22    None\n",
       "23    None\n",
       "24    None\n",
       "25    None\n",
       "26    None\n",
       "27    None\n",
       "28    None\n",
       "29    None\n",
       "dtype: object"
      ]
     },
     "execution_count": 171,
     "metadata": {},
     "output_type": "execute_result"
    }
   ],
   "source": [
    "def add_friend(x):\n",
    "    \"\"\"Add friend list from series x to graph f.\"\"\"\n",
    "    for y in str(x['\\\"Friends\\\"']).split(','):\n",
    "#         print x['NetID'].lower(),y.strip().lower()\n",
    "        f.add_edge(x['NetID'].lower(),y.strip().lower())\n",
    "#     ax = plt.axes()\n",
    "#     ax.axis('off')\n",
    "#     nx.draw_networkx(f,pos=nx.spring_layout(f),node_shape='s',ax=ax,node_size=1000)\n",
    "#     ims.append((ax,))\n",
    "\n",
    "f = nx.Graph()\n",
    "fr.apply(add_friend,axis=1);\n"
   ]
  },
  {
   "cell_type": "code",
   "execution_count": 174,
   "metadata": {
    "collapsed": false,
    "slideshow": {
     "slide_type": "skip"
    }
   },
   "outputs": [
    {
     "data": {
      "image/png": "[encoded data removed]",
      "text/plain": [
       "<matplotlib.figure.Figure at 0x1205b6610>"
      ]
     },
     "metadata": {},
     "output_type": "display_data"
    }
   ],
   "source": [
    "nx.draw_networkx(nx.Graph(f.edges()[:45]),node_shape='s',node_size=1000)"
   ]
  },
  {
   "cell_type": "code",
   "execution_count": 159,
   "metadata": {
    "collapsed": false,
    "slideshow": {
     "slide_type": "skip"
    }
   },
   "outputs": [
    {
     "data": {
      "image/png": "[encoded data removed]",
      "text/plain": [
       "<matplotlib.figure.Figure at 0x11eb8e1d0>"
      ]
     },
     "metadata": {},
     "output_type": "display_data"
    }
   ],
   "source": [
    "fig,ax=plt.subplots()"
   ]
  },
  {
   "cell_type": "code",
   "execution_count": 160,
   "metadata": {
    "collapsed": false,
    "slideshow": {
     "slide_type": "skip"
    }
   },
   "outputs": [
    {
     "data": {
      "text/plain": [
       "(0.0, 1.0, 0.0, 1.0)"
      ]
     },
     "execution_count": 160,
     "metadata": {},
     "output_type": "execute_result"
    }
   ],
   "source": [
    "ax.axis('off')"
   ]
  },
  {
   "cell_type": "code",
   "execution_count": 166,
   "metadata": {
    "collapsed": false,
    "slideshow": {
     "slide_type": "skip"
    }
   },
   "outputs": [
    {
     "data": {
      "image/png": "[encoded data removed]",
      "text/plain": [
       "<matplotlib.figure.Figure at 0x11eb8e1d0>"
      ]
     },
     "execution_count": 166,
     "metadata": {},
     "output_type": "execute_result"
    }
   ],
   "source": [
    "fig"
   ]
  },
  {
   "cell_type": "code",
   "execution_count": 211,
   "metadata": {
    "collapsed": false,
    "slideshow": {
     "slide_type": "skip"
    }
   },
   "outputs": [],
   "source": [
    "def update_ani(i):\n",
    "    ax.cla()\n",
    "    ax.axis('off')\n",
    "    ax.set_xlim([-.4,2.4])\n",
    "    ax.set_ylim([-.4,2.4])\n",
    "    tmp_g = nx.Graph(f.edges()[:i])\n",
    "    pos = {k:2*v for k,v in bigpos if k in tmp_g.nodes()}\n",
    "#     print pos\n",
    "    nx.draw_networkx(nx.Graph(f.edges()[:i]),pos=pos,node_shape='s',node_size=600,ax=ax,node_color='#FF5555')\n",
    "\n",
    "bigpos =nx.spring_layout(f).items()\n",
    "ani = animation.FuncAnimation(fig,update_ani,len(f.edges()))"
   ]
  },
  {
   "cell_type": "code",
   "execution_count": 215,
   "metadata": {
    "collapsed": false,
    "slideshow": {
     "slide_type": "skip"
    }
   },
   "outputs": [],
   "source": [
    "ani.save('g1.gif',fps=2)"
   ]
  },
  {
   "cell_type": "code",
   "execution_count": 206,
   "metadata": {
    "collapsed": false,
    "slideshow": {
     "slide_type": "skip"
    }
   },
   "outputs": [],
   "source": [
    "fig.set_figwidth(8)"
   ]
  },
  {
   "cell_type": "code",
   "execution_count": 209,
   "metadata": {
    "collapsed": false,
    "slideshow": {
     "slide_type": "skip"
    }
   },
   "outputs": [],
   "source": [
    "fig.set_figheight(8)"
   ]
  },
  {
   "cell_type": "markdown",
   "metadata": {
    "slideshow": {
     "slide_type": "slide"
    }
   },
   "source": [
    "## More interesting still: Interact"
   ]
  },
  {
   "cell_type": "code",
   "execution_count": 217,
   "metadata": {
    "collapsed": true,
    "slideshow": {
     "slide_type": "fragment"
    }
   },
   "outputs": [],
   "source": [
    "from ipywidgets import interact"
   ]
  },
  {
   "cell_type": "code",
   "execution_count": 219,
   "metadata": {
    "collapsed": false,
    "slideshow": {
     "slide_type": "fragment"
    }
   },
   "outputs": [],
   "source": [
    "df = pd.read_csv(\"https://docs.google.com/spreadsheets/d/19_6rMgjDOl-_44Pqn5zGcDEU8n6cyOzpNmDR_wMKYeU/pub?gid=354149066&single=true&output=csv\")"
   ]
  },
  {
   "cell_type": "code",
   "execution_count": 220,
   "metadata": {
    "collapsed": false,
    "scrolled": true,
    "slideshow": {
     "slide_type": "fragment"
    }
   },
   "outputs": [
    {
     "data": {
      "text/html": [
       "<div>\n",
       "<table border=\"1\" class=\"dataframe\">\n",
       "  <thead>\n",
       "    <tr style=\"text-align: right;\">\n",
       "      <th></th>\n",
       "      <th>Timestamp</th>\n",
       "      <th>Facebook</th>\n",
       "      <th>Bobst</th>\n",
       "      <th>Caffeine</th>\n",
       "      <th>Handsome neighbor</th>\n",
       "      <th>Handsome self</th>\n",
       "      <th>Surveys</th>\n",
       "      <th>Random</th>\n",
       "    </tr>\n",
       "  </thead>\n",
       "  <tbody>\n",
       "    <tr>\n",
       "      <th>0</th>\n",
       "      <td>9/16/2015 13:43:46</td>\n",
       "      <td>128</td>\n",
       "      <td>0</td>\n",
       "      <td>2</td>\n",
       "      <td>8</td>\n",
       "      <td>3</td>\n",
       "      <td>9</td>\n",
       "      <td>34.0</td>\n",
       "    </tr>\n",
       "    <tr>\n",
       "      <th>1</th>\n",
       "      <td>9/16/2015 13:44:49</td>\n",
       "      <td>800</td>\n",
       "      <td>0</td>\n",
       "      <td>2</td>\n",
       "      <td>10</td>\n",
       "      <td>8</td>\n",
       "      <td>8</td>\n",
       "      <td>17.0</td>\n",
       "    </tr>\n",
       "    <tr>\n",
       "      <th>2</th>\n",
       "      <td>9/21/2015 10:06:25</td>\n",
       "      <td>321</td>\n",
       "      <td>1</td>\n",
       "      <td>1</td>\n",
       "      <td>7</td>\n",
       "      <td>5</td>\n",
       "      <td>7</td>\n",
       "      <td>12.0</td>\n",
       "    </tr>\n",
       "    <tr>\n",
       "      <th>3</th>\n",
       "      <td>9/21/2015 14:25:23</td>\n",
       "      <td>480</td>\n",
       "      <td>1</td>\n",
       "      <td>1</td>\n",
       "      <td>6</td>\n",
       "      <td>6</td>\n",
       "      <td>8</td>\n",
       "      <td>13.0</td>\n",
       "    </tr>\n",
       "    <tr>\n",
       "      <th>4</th>\n",
       "      <td>9/21/2015 14:25:25</td>\n",
       "      <td>400</td>\n",
       "      <td>1</td>\n",
       "      <td>2</td>\n",
       "      <td>6</td>\n",
       "      <td>6</td>\n",
       "      <td>3</td>\n",
       "      <td>3.0</td>\n",
       "    </tr>\n",
       "  </tbody>\n",
       "</table>\n",
       "</div>"
      ],
      "text/plain": [
       "            Timestamp  Facebook  Bobst  Caffeine  Handsome neighbor  \\\n",
       "0  9/16/2015 13:43:46       128      0         2                  8   \n",
       "1  9/16/2015 13:44:49       800      0         2                 10   \n",
       "2  9/21/2015 10:06:25       321      1         1                  7   \n",
       "3  9/21/2015 14:25:23       480      1         1                  6   \n",
       "4  9/21/2015 14:25:25       400      1         2                  6   \n",
       "\n",
       "   Handsome self  Surveys  Random  \n",
       "0              3        9    34.0  \n",
       "1              8        8    17.0  \n",
       "2              5        7    12.0  \n",
       "3              6        8    13.0  \n",
       "4              6        3     3.0  "
      ]
     },
     "execution_count": 220,
     "metadata": {},
     "output_type": "execute_result"
    }
   ],
   "source": [
    "df.head()"
   ]
  },
  {
   "cell_type": "markdown",
   "metadata": {
    "slideshow": {
     "slide_type": "subslide"
    }
   },
   "source": [
    "## Some wisenheimers may still sneak through"
   ]
  },
  {
   "cell_type": "code",
   "execution_count": 261,
   "metadata": {
    "collapsed": false,
    "slideshow": {
     "slide_type": "fragment"
    }
   },
   "outputs": [
    {
     "data": {
      "text/html": [
       "<div>\n",
       "<table border=\"1\" class=\"dataframe\">\n",
       "  <thead>\n",
       "    <tr style=\"text-align: right;\">\n",
       "      <th></th>\n",
       "      <th>Timestamp</th>\n",
       "      <th>Facebook</th>\n",
       "      <th>Bobst</th>\n",
       "      <th>Caffeine</th>\n",
       "      <th>Handsome neighbor</th>\n",
       "      <th>Handsome self</th>\n",
       "      <th>Surveys</th>\n",
       "      <th>Random</th>\n",
       "    </tr>\n",
       "  </thead>\n",
       "  <tbody>\n",
       "    <tr>\n",
       "      <th>73</th>\n",
       "      <td>9/21/2015 14:27:20</td>\n",
       "      <td>420</td>\n",
       "      <td>420</td>\n",
       "      <td>420</td>\n",
       "      <td>1</td>\n",
       "      <td>10</td>\n",
       "      <td>10</td>\n",
       "      <td>2.0</td>\n",
       "    </tr>\n",
       "  </tbody>\n",
       "</table>\n",
       "</div>"
      ],
      "text/plain": [
       "             Timestamp  Facebook  Bobst  Caffeine  Handsome neighbor  \\\n",
       "73  9/21/2015 14:27:20       420    420       420                  1   \n",
       "\n",
       "    Handsome self  Surveys  Random  \n",
       "73             10       10     2.0  "
      ]
     },
     "execution_count": 261,
     "metadata": {},
     "output_type": "execute_result"
    }
   ],
   "source": [
    "df[df.Bobst>100]"
   ]
  },
  {
   "cell_type": "code",
   "execution_count": 262,
   "metadata": {
    "collapsed": true,
    "slideshow": {
     "slide_type": "fragment"
    }
   },
   "outputs": [],
   "source": [
    "df = df[df.Bobst < 100]"
   ]
  },
  {
   "cell_type": "code",
   "execution_count": 236,
   "metadata": {
    "collapsed": false,
    "slideshow": {
     "slide_type": "skip"
    }
   },
   "outputs": [
    {
     "data": {
      "image/png": "[encoded data removed]",
      "text/plain": [
       "<matplotlib.figure.Figure at 0x1221bdf10>"
      ]
     },
     "execution_count": 236,
     "metadata": {},
     "output_type": "execute_result"
    },
    {
     "data": {
      "image/png": "[encoded data removed]",
      "text/plain": [
       "<matplotlib.figure.Figure at 0x1221bdf10>"
      ]
     },
     "metadata": {},
     "output_type": "display_data"
    }
   ],
   "source": [
    "def plot_scatter(x,y,s,c):\n",
    "    fig,ax = plt.subplots(1,1)\n",
    "    ax.scatter(df[x],df[y],s=10*df[s],c=np.hypot(df[x],df[y]),cmap='PuOr')\n",
    "#     return fig\n",
    "\n",
    "plot_scatter('Handsome neighbor','Handsome self','Surveys','Facebook')"
   ]
  },
  {
   "cell_type": "code",
   "execution_count": 250,
   "metadata": {
    "collapsed": false,
    "slideshow": {
     "slide_type": "skip"
    }
   },
   "outputs": [
    {
     "data": {
      "image/png": "[encoded data removed]",
      "text/plain": [
       "<matplotlib.figure.Figure at 0x1258c3490>"
      ]
     },
     "metadata": {},
     "output_type": "display_data"
    }
   ],
   "source": [
    "@interact(x=widgets.Dropdown(options=df.columns[1:].tolist()),y=widgets.Select(options=df.columns[1:].tolist()),\n",
    "          s=widgets.Select(options=df.columns[1:].tolist()),c=widgets.Select(options=df.columns[1:].tolist()))\n",
    "def plot_scatter(x,y,s,c):\n",
    "    fig,ax = plt.subplots(1,1)\n",
    "    ax.scatter(df[x],df[y],s=10*df[s],c=np.hypot(df[x],df[y]),cmap='PuOr')\n",
    "#     return fig"
   ]
  },
  {
   "cell_type": "code",
   "execution_count": 263,
   "metadata": {
    "collapsed": false,
    "slideshow": {
     "slide_type": "skip"
    }
   },
   "outputs": [
    {
     "data": {
      "image/png": "[encoded data removed]",
      "text/plain": [
       "<matplotlib.figure.Figure at 0x12592d410>"
      ]
     },
     "metadata": {},
     "output_type": "display_data"
    }
   ],
   "source": [
    "@interact\n",
    "def plot_scatter(x=widgets.Dropdown(options=df.columns[1:].tolist()),\n",
    "                 y=widgets.Dropdown(options=df.columns[1:].tolist(),value='Handsome self'),\n",
    "                 s=widgets.Dropdown(options=df.columns[1:].tolist(),value='Caffeine')):\n",
    "    fig,ax = plt.subplots(1,1)\n",
    "    ax.scatter(df[x],df[y],s=10*df[s],c=np.hypot(df[x],df[y]),cmap='PuOr')\n",
    "    ax.set_xlabel(x)\n",
    "    ax.set_ylabel(y)   \n",
    "#     return fig"
   ]
  },
  {
   "cell_type": "markdown",
   "metadata": {
    "slideshow": {
     "slide_type": "subslide"
    }
   },
   "source": [
    "## Build little data explorers"
   ]
  },
  {
   "cell_type": "code",
   "execution_count": 268,
   "metadata": {
    "collapsed": false,
    "slideshow": {
     "slide_type": "fragment"
    }
   },
   "outputs": [
    {
     "data": {
      "image/png": "[encoded data removed]",
      "text/plain": [
       "<matplotlib.figure.Figure at 0x124b0d090>"
      ]
     },
     "metadata": {},
     "output_type": "display_data"
    }
   ],
   "source": [
    "def plot_scatter(x,y,s):\n",
    "    fig,ax = plt.subplots(1,1)\n",
    "    ax.scatter(df[x],df[y],s=10*df[s],c=np.hypot(df[x],df[y]),cmap='PuOr')\n",
    "    ax.set_xlabel(x)\n",
    "    ax.set_ylabel(y)\n",
    "#     return fig\n",
    "\n",
    "interact(plot_scatter,x=widgets.Dropdown(options=df.columns[1:].tolist()),\n",
    "                 y=widgets.Dropdown(options=df.columns[1:].tolist(),value='Handsome self'),\n",
    "                 s=widgets.Dropdown(options=df.columns[1:].tolist(),value='Caffeine'))"
   ]
  },
  {
   "cell_type": "markdown",
   "metadata": {
    "slideshow": {
     "slide_type": "subslide"
    }
   },
   "source": [
    "\n",
    "## Build little data explorers\n",
    "\n",
    "![interacyive 1](./screenshots/8.png)"
   ]
  },
  {
   "cell_type": "markdown",
   "metadata": {
    "slideshow": {
     "slide_type": "subslide"
    }
   },
   "source": [
    "## Build little data explorers\n",
    "\n",
    "![interacyive 1](./screenshots/9.png)"
   ]
  },
  {
   "cell_type": "markdown",
   "metadata": {
    "slideshow": {
     "slide_type": "subslide"
    }
   },
   "source": [
    "## Build little data explorers\n",
    "\n",
    "![interacyive 1](./screenshots/10.png)"
   ]
  },
  {
   "cell_type": "markdown",
   "metadata": {
    "slideshow": {
     "slide_type": "slide"
    }
   },
   "source": [
    "# Summary"
   ]
  },
  {
   "cell_type": "markdown",
   "metadata": {
    "slideshow": {
     "slide_type": "fragment"
    }
   },
   "source": [
    "  - The vast majority of college students have access to a web-capable device in class."
   ]
  },
  {
   "cell_type": "markdown",
   "metadata": {
    "slideshow": {
     "slide_type": "fragment"
    }
   },
   "source": [
    "  - Use QR codes ([goqr.me](http://goqr.me)) to distribute web content in class."
   ]
  },
  {
   "cell_type": "markdown",
   "metadata": {
    "slideshow": {
     "slide_type": "fragment"
    }
   },
   "source": [
    "  - Google Forms ([forms.google.com](https://forms.google.com)) can collect data from students in real time. It offers:\n",
    "      - Client-side data validation\n",
    "      - Publishing of results to CSV format"
   ]
  },
  {
   "cell_type": "markdown",
   "metadata": {
    "slideshow": {
     "slide_type": "subslide"
    }
   },
   "source": [
    "  - Use whatever data processing/visualization tools you use/know best. I use:\n",
    "      - [Jupyter](http://jupyter.org) as my computing environment.\n",
    "      - [Pandas](http://pandas.pydata.org) for data wrangling/analysis.\n",
    "      - [Matplotlib](http://matplotlib.org) for visualization."
   ]
  },
  {
   "cell_type": "markdown",
   "metadata": {
    "slideshow": {
     "slide_type": "subslide"
    }
   },
   "source": [
    "  - You can find this presentation and the notebook that generated it through my github project for JMM17. \n",
    "\n",
    "### [https://github.com/drewyoungren/JMM17](https://github.com/drewyoungren/JMM17)\n",
    "\n",
    "![./qr-gh.png](./qr-gh.png)\n",
    "\n",
    "<p> Thank you. </p>"
   ]
  }
 ],
 "metadata": {
  "anaconda-cloud": {},
  "celltoolbar": "Slideshow",
  "kernelspec": {
   "display_name": "Python [conda root]",
   "language": "python",
   "name": "conda-root-py"
  },
  "language_info": {
   "codemirror_mode": {
    "name": "ipython",
    "version": 2
   },
   "file_extension": ".py",
   "mimetype": "text/x-python",
   "name": "python",
   "nbconvert_exporter": "python",
   "pygments_lexer": "ipython2",
   "version": "2.7.12"
  },
  "widgets": {
   "state": {
    "09d9e48420e543768d62b26c8a376b79": {
     "views": [
      {
       "cell_index": 62
      }
     ]
    },
    "4f7c0ed6c5c14eea977d951e903d1a86": {
     "views": [
      {
       "cell_index": 58
      }
     ]
    },
    "8468a4af999e4518b9bfacce808a8a30": {
     "views": [
      {
       "cell_index": 65
      }
     ]
    }
   },
   "version": "1.2.0"
  }
 },
 "nbformat": 4,
 "nbformat_minor": 1
}
